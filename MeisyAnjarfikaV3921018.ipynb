{
 "cells": [
  {
   "cell_type": "code",
   "execution_count": 73,
   "metadata": {},
   "outputs": [],
   "source": [
    "import numpy as np #library yang digunakan untuk membuat objek kelas array tunggal dan multidimensi\n",
    "import pandas as pd #library yang digunakan untuk menganalisis data serta membangun sebuah machine learning\n",
    "import sklearn #library yang digunakan untuk membantu melakukan processing data ataupun melakukan training data\n",
    "\n",
    "data = pd.read_csv('C:/Users/Jan_2019_ontime.csv') #import file csv"
   ]
  },
  {
   "cell_type": "code",
   "execution_count": 74,
   "metadata": {},
   "outputs": [
    {
     "data": {
      "text/html": [
       "<div>\n",
       "<style scoped>\n",
       "    .dataframe tbody tr th:only-of-type {\n",
       "        vertical-align: middle;\n",
       "    }\n",
       "\n",
       "    .dataframe tbody tr th {\n",
       "        vertical-align: top;\n",
       "    }\n",
       "\n",
       "    .dataframe thead th {\n",
       "        text-align: right;\n",
       "    }\n",
       "</style>\n",
       "<table border=\"1\" class=\"dataframe\">\n",
       "  <thead>\n",
       "    <tr style=\"text-align: right;\">\n",
       "      <th></th>\n",
       "      <th>DAY_OF_MONTH</th>\n",
       "      <th>DAY_OF_WEEK</th>\n",
       "      <th>OP_UNIQUE_CARRIER</th>\n",
       "      <th>OP_CARRIER_AIRLINE_ID</th>\n",
       "      <th>OP_CARRIER</th>\n",
       "      <th>TAIL_NUM</th>\n",
       "      <th>OP_CARRIER_FL_NUM</th>\n",
       "      <th>ORIGIN_AIRPORT_ID</th>\n",
       "      <th>ORIGIN</th>\n",
       "      <th>DEST_AIRPORT_ID</th>\n",
       "      <th>DEST</th>\n",
       "      <th>DEP_TIME</th>\n",
       "      <th>DEP_DEL15</th>\n",
       "      <th>DEP_TIME_BLK</th>\n",
       "      <th>ARR_TIME</th>\n",
       "      <th>ARR_DEL15</th>\n",
       "      <th>CANCELLED</th>\n",
       "      <th>DIVERTED</th>\n",
       "      <th>DISTANCE</th>\n",
       "    </tr>\n",
       "  </thead>\n",
       "  <tbody>\n",
       "    <tr>\n",
       "      <th>0</th>\n",
       "      <td>1</td>\n",
       "      <td>2</td>\n",
       "      <td>9E</td>\n",
       "      <td>20363</td>\n",
       "      <td>9E</td>\n",
       "      <td>N8688C</td>\n",
       "      <td>3280</td>\n",
       "      <td>11953</td>\n",
       "      <td>GNV</td>\n",
       "      <td>10397</td>\n",
       "      <td>ATL</td>\n",
       "      <td>601.0</td>\n",
       "      <td>0.0</td>\n",
       "      <td>0600-0659</td>\n",
       "      <td>722.0</td>\n",
       "      <td>0.0</td>\n",
       "      <td>0</td>\n",
       "      <td>0</td>\n",
       "      <td>300</td>\n",
       "    </tr>\n",
       "    <tr>\n",
       "      <th>1</th>\n",
       "      <td>1</td>\n",
       "      <td>2</td>\n",
       "      <td>9E</td>\n",
       "      <td>20363</td>\n",
       "      <td>9E</td>\n",
       "      <td>N348PQ</td>\n",
       "      <td>3281</td>\n",
       "      <td>13487</td>\n",
       "      <td>MSP</td>\n",
       "      <td>11193</td>\n",
       "      <td>CVG</td>\n",
       "      <td>1359.0</td>\n",
       "      <td>0.0</td>\n",
       "      <td>1400-1459</td>\n",
       "      <td>1633.0</td>\n",
       "      <td>0.0</td>\n",
       "      <td>0</td>\n",
       "      <td>0</td>\n",
       "      <td>596</td>\n",
       "    </tr>\n",
       "    <tr>\n",
       "      <th>2</th>\n",
       "      <td>1</td>\n",
       "      <td>2</td>\n",
       "      <td>9E</td>\n",
       "      <td>20363</td>\n",
       "      <td>9E</td>\n",
       "      <td>N8896A</td>\n",
       "      <td>3282</td>\n",
       "      <td>11433</td>\n",
       "      <td>DTW</td>\n",
       "      <td>11193</td>\n",
       "      <td>CVG</td>\n",
       "      <td>1215.0</td>\n",
       "      <td>0.0</td>\n",
       "      <td>1200-1259</td>\n",
       "      <td>1329.0</td>\n",
       "      <td>0.0</td>\n",
       "      <td>0</td>\n",
       "      <td>0</td>\n",
       "      <td>229</td>\n",
       "    </tr>\n",
       "    <tr>\n",
       "      <th>3</th>\n",
       "      <td>1</td>\n",
       "      <td>2</td>\n",
       "      <td>9E</td>\n",
       "      <td>20363</td>\n",
       "      <td>9E</td>\n",
       "      <td>N8886A</td>\n",
       "      <td>3283</td>\n",
       "      <td>15249</td>\n",
       "      <td>TLH</td>\n",
       "      <td>10397</td>\n",
       "      <td>ATL</td>\n",
       "      <td>1521.0</td>\n",
       "      <td>0.0</td>\n",
       "      <td>1500-1559</td>\n",
       "      <td>1625.0</td>\n",
       "      <td>0.0</td>\n",
       "      <td>0</td>\n",
       "      <td>0</td>\n",
       "      <td>223</td>\n",
       "    </tr>\n",
       "    <tr>\n",
       "      <th>4</th>\n",
       "      <td>1</td>\n",
       "      <td>2</td>\n",
       "      <td>9E</td>\n",
       "      <td>20363</td>\n",
       "      <td>9E</td>\n",
       "      <td>N8974C</td>\n",
       "      <td>3284</td>\n",
       "      <td>10397</td>\n",
       "      <td>ATL</td>\n",
       "      <td>11778</td>\n",
       "      <td>FSM</td>\n",
       "      <td>1847.0</td>\n",
       "      <td>0.0</td>\n",
       "      <td>1900-1959</td>\n",
       "      <td>1940.0</td>\n",
       "      <td>0.0</td>\n",
       "      <td>0</td>\n",
       "      <td>0</td>\n",
       "      <td>579</td>\n",
       "    </tr>\n",
       "    <tr>\n",
       "      <th>5</th>\n",
       "      <td>1</td>\n",
       "      <td>2</td>\n",
       "      <td>9E</td>\n",
       "      <td>20363</td>\n",
       "      <td>9E</td>\n",
       "      <td>N927EV</td>\n",
       "      <td>3285</td>\n",
       "      <td>11267</td>\n",
       "      <td>DAY</td>\n",
       "      <td>13487</td>\n",
       "      <td>MSP</td>\n",
       "      <td>853.0</td>\n",
       "      <td>0.0</td>\n",
       "      <td>0900-0959</td>\n",
       "      <td>953.0</td>\n",
       "      <td>0.0</td>\n",
       "      <td>0</td>\n",
       "      <td>0</td>\n",
       "      <td>574</td>\n",
       "    </tr>\n",
       "    <tr>\n",
       "      <th>6</th>\n",
       "      <td>1</td>\n",
       "      <td>2</td>\n",
       "      <td>9E</td>\n",
       "      <td>20363</td>\n",
       "      <td>9E</td>\n",
       "      <td>N915XJ</td>\n",
       "      <td>3286</td>\n",
       "      <td>12448</td>\n",
       "      <td>JAN</td>\n",
       "      <td>10397</td>\n",
       "      <td>ATL</td>\n",
       "      <td>1553.0</td>\n",
       "      <td>0.0</td>\n",
       "      <td>1500-1559</td>\n",
       "      <td>1832.0</td>\n",
       "      <td>0.0</td>\n",
       "      <td>0</td>\n",
       "      <td>0</td>\n",
       "      <td>341</td>\n",
       "    </tr>\n",
       "    <tr>\n",
       "      <th>7</th>\n",
       "      <td>1</td>\n",
       "      <td>2</td>\n",
       "      <td>9E</td>\n",
       "      <td>20363</td>\n",
       "      <td>9E</td>\n",
       "      <td>N295PQ</td>\n",
       "      <td>3287</td>\n",
       "      <td>12953</td>\n",
       "      <td>LGA</td>\n",
       "      <td>11193</td>\n",
       "      <td>CVG</td>\n",
       "      <td>1551.0</td>\n",
       "      <td>0.0</td>\n",
       "      <td>1500-1559</td>\n",
       "      <td>1824.0</td>\n",
       "      <td>0.0</td>\n",
       "      <td>0</td>\n",
       "      <td>0</td>\n",
       "      <td>585</td>\n",
       "    </tr>\n",
       "    <tr>\n",
       "      <th>8</th>\n",
       "      <td>1</td>\n",
       "      <td>2</td>\n",
       "      <td>9E</td>\n",
       "      <td>20363</td>\n",
       "      <td>9E</td>\n",
       "      <td>N337PQ</td>\n",
       "      <td>3288</td>\n",
       "      <td>12451</td>\n",
       "      <td>JAX</td>\n",
       "      <td>12953</td>\n",
       "      <td>LGA</td>\n",
       "      <td>1037.0</td>\n",
       "      <td>0.0</td>\n",
       "      <td>1000-1059</td>\n",
       "      <td>1239.0</td>\n",
       "      <td>0.0</td>\n",
       "      <td>0</td>\n",
       "      <td>0</td>\n",
       "      <td>833</td>\n",
       "    </tr>\n",
       "    <tr>\n",
       "      <th>9</th>\n",
       "      <td>1</td>\n",
       "      <td>2</td>\n",
       "      <td>9E</td>\n",
       "      <td>20363</td>\n",
       "      <td>9E</td>\n",
       "      <td>N311PQ</td>\n",
       "      <td>3289</td>\n",
       "      <td>10397</td>\n",
       "      <td>ATL</td>\n",
       "      <td>10685</td>\n",
       "      <td>BMI</td>\n",
       "      <td>1245.0</td>\n",
       "      <td>0.0</td>\n",
       "      <td>1200-1259</td>\n",
       "      <td>1318.0</td>\n",
       "      <td>0.0</td>\n",
       "      <td>0</td>\n",
       "      <td>0</td>\n",
       "      <td>533</td>\n",
       "    </tr>\n",
       "  </tbody>\n",
       "</table>\n",
       "</div>"
      ],
      "text/plain": [
       "   DAY_OF_MONTH  DAY_OF_WEEK OP_UNIQUE_CARRIER  OP_CARRIER_AIRLINE_ID  \\\n",
       "0             1            2                9E                  20363   \n",
       "1             1            2                9E                  20363   \n",
       "2             1            2                9E                  20363   \n",
       "3             1            2                9E                  20363   \n",
       "4             1            2                9E                  20363   \n",
       "5             1            2                9E                  20363   \n",
       "6             1            2                9E                  20363   \n",
       "7             1            2                9E                  20363   \n",
       "8             1            2                9E                  20363   \n",
       "9             1            2                9E                  20363   \n",
       "\n",
       "  OP_CARRIER TAIL_NUM  OP_CARRIER_FL_NUM  ORIGIN_AIRPORT_ID ORIGIN  \\\n",
       "0         9E   N8688C               3280              11953    GNV   \n",
       "1         9E   N348PQ               3281              13487    MSP   \n",
       "2         9E   N8896A               3282              11433    DTW   \n",
       "3         9E   N8886A               3283              15249    TLH   \n",
       "4         9E   N8974C               3284              10397    ATL   \n",
       "5         9E   N927EV               3285              11267    DAY   \n",
       "6         9E   N915XJ               3286              12448    JAN   \n",
       "7         9E   N295PQ               3287              12953    LGA   \n",
       "8         9E   N337PQ               3288              12451    JAX   \n",
       "9         9E   N311PQ               3289              10397    ATL   \n",
       "\n",
       "   DEST_AIRPORT_ID DEST  DEP_TIME  DEP_DEL15 DEP_TIME_BLK  ARR_TIME  \\\n",
       "0            10397  ATL     601.0        0.0    0600-0659     722.0   \n",
       "1            11193  CVG    1359.0        0.0    1400-1459    1633.0   \n",
       "2            11193  CVG    1215.0        0.0    1200-1259    1329.0   \n",
       "3            10397  ATL    1521.0        0.0    1500-1559    1625.0   \n",
       "4            11778  FSM    1847.0        0.0    1900-1959    1940.0   \n",
       "5            13487  MSP     853.0        0.0    0900-0959     953.0   \n",
       "6            10397  ATL    1553.0        0.0    1500-1559    1832.0   \n",
       "7            11193  CVG    1551.0        0.0    1500-1559    1824.0   \n",
       "8            12953  LGA    1037.0        0.0    1000-1059    1239.0   \n",
       "9            10685  BMI    1245.0        0.0    1200-1259    1318.0   \n",
       "\n",
       "   ARR_DEL15  CANCELLED  DIVERTED  DISTANCE  \n",
       "0        0.0          0         0       300  \n",
       "1        0.0          0         0       596  \n",
       "2        0.0          0         0       229  \n",
       "3        0.0          0         0       223  \n",
       "4        0.0          0         0       579  \n",
       "5        0.0          0         0       574  \n",
       "6        0.0          0         0       341  \n",
       "7        0.0          0         0       585  \n",
       "8        0.0          0         0       833  \n",
       "9        0.0          0         0       533  "
      ]
     },
     "execution_count": 74,
     "metadata": {},
     "output_type": "execute_result"
    }
   ],
   "source": [
    "data.head(10) #menampilkan 10 data teratas"
   ]
  },
  {
   "cell_type": "code",
   "execution_count": 75,
   "metadata": {},
   "outputs": [
    {
     "data": {
      "text/html": [
       "<div>\n",
       "<style scoped>\n",
       "    .dataframe tbody tr th:only-of-type {\n",
       "        vertical-align: middle;\n",
       "    }\n",
       "\n",
       "    .dataframe tbody tr th {\n",
       "        vertical-align: top;\n",
       "    }\n",
       "\n",
       "    .dataframe thead th {\n",
       "        text-align: right;\n",
       "    }\n",
       "</style>\n",
       "<table border=\"1\" class=\"dataframe\">\n",
       "  <thead>\n",
       "    <tr style=\"text-align: right;\">\n",
       "      <th></th>\n",
       "      <th>DAY_OF_MONTH</th>\n",
       "      <th>DAY_OF_WEEK</th>\n",
       "      <th>OP_UNIQUE_CARRIER</th>\n",
       "      <th>OP_CARRIER_AIRLINE_ID</th>\n",
       "      <th>OP_CARRIER</th>\n",
       "      <th>TAIL_NUM</th>\n",
       "      <th>OP_CARRIER_FL_NUM</th>\n",
       "      <th>ORIGIN_AIRPORT_ID</th>\n",
       "      <th>ORIGIN</th>\n",
       "      <th>DEST_AIRPORT_ID</th>\n",
       "      <th>DEST</th>\n",
       "      <th>DEP_TIME</th>\n",
       "      <th>DEP_DEL15</th>\n",
       "      <th>DEP_TIME_BLK</th>\n",
       "      <th>ARR_TIME</th>\n",
       "      <th>ARR_DEL15</th>\n",
       "      <th>CANCELLED</th>\n",
       "      <th>DIVERTED</th>\n",
       "      <th>DISTANCE</th>\n",
       "    </tr>\n",
       "  </thead>\n",
       "  <tbody>\n",
       "    <tr>\n",
       "      <th>583975</th>\n",
       "      <td>31</td>\n",
       "      <td>4</td>\n",
       "      <td>UA</td>\n",
       "      <td>19977</td>\n",
       "      <td>UA</td>\n",
       "      <td>N813UA</td>\n",
       "      <td>205</td>\n",
       "      <td>14771</td>\n",
       "      <td>SFO</td>\n",
       "      <td>14057</td>\n",
       "      <td>PDX</td>\n",
       "      <td>604.0</td>\n",
       "      <td>0.0</td>\n",
       "      <td>0600-0659</td>\n",
       "      <td>802.0</td>\n",
       "      <td>0.0</td>\n",
       "      <td>0</td>\n",
       "      <td>0</td>\n",
       "      <td>550</td>\n",
       "    </tr>\n",
       "    <tr>\n",
       "      <th>583976</th>\n",
       "      <td>31</td>\n",
       "      <td>4</td>\n",
       "      <td>UA</td>\n",
       "      <td>19977</td>\n",
       "      <td>UA</td>\n",
       "      <td>N75861</td>\n",
       "      <td>204</td>\n",
       "      <td>13930</td>\n",
       "      <td>ORD</td>\n",
       "      <td>12892</td>\n",
       "      <td>LAX</td>\n",
       "      <td>813.0</td>\n",
       "      <td>1.0</td>\n",
       "      <td>0700-0759</td>\n",
       "      <td>1028.0</td>\n",
       "      <td>0.0</td>\n",
       "      <td>0</td>\n",
       "      <td>0</td>\n",
       "      <td>1744</td>\n",
       "    </tr>\n",
       "    <tr>\n",
       "      <th>583977</th>\n",
       "      <td>31</td>\n",
       "      <td>4</td>\n",
       "      <td>UA</td>\n",
       "      <td>19977</td>\n",
       "      <td>UA</td>\n",
       "      <td>N39728</td>\n",
       "      <td>203</td>\n",
       "      <td>10693</td>\n",
       "      <td>BNA</td>\n",
       "      <td>12266</td>\n",
       "      <td>IAH</td>\n",
       "      <td>1105.0</td>\n",
       "      <td>0.0</td>\n",
       "      <td>1100-1159</td>\n",
       "      <td>1335.0</td>\n",
       "      <td>1.0</td>\n",
       "      <td>0</td>\n",
       "      <td>0</td>\n",
       "      <td>657</td>\n",
       "    </tr>\n",
       "    <tr>\n",
       "      <th>583978</th>\n",
       "      <td>31</td>\n",
       "      <td>4</td>\n",
       "      <td>UA</td>\n",
       "      <td>19977</td>\n",
       "      <td>UA</td>\n",
       "      <td>N779UA</td>\n",
       "      <td>202</td>\n",
       "      <td>13930</td>\n",
       "      <td>ORD</td>\n",
       "      <td>13830</td>\n",
       "      <td>OGG</td>\n",
       "      <td>1027.0</td>\n",
       "      <td>1.0</td>\n",
       "      <td>1000-1059</td>\n",
       "      <td>1457.0</td>\n",
       "      <td>0.0</td>\n",
       "      <td>0</td>\n",
       "      <td>0</td>\n",
       "      <td>4184</td>\n",
       "    </tr>\n",
       "    <tr>\n",
       "      <th>583979</th>\n",
       "      <td>31</td>\n",
       "      <td>4</td>\n",
       "      <td>UA</td>\n",
       "      <td>19977</td>\n",
       "      <td>UA</td>\n",
       "      <td>N769UA</td>\n",
       "      <td>201</td>\n",
       "      <td>12173</td>\n",
       "      <td>HNL</td>\n",
       "      <td>12016</td>\n",
       "      <td>GUM</td>\n",
       "      <td>1502.0</td>\n",
       "      <td>0.0</td>\n",
       "      <td>1500-1559</td>\n",
       "      <td>1849.0</td>\n",
       "      <td>0.0</td>\n",
       "      <td>0</td>\n",
       "      <td>0</td>\n",
       "      <td>3801</td>\n",
       "    </tr>\n",
       "    <tr>\n",
       "      <th>583980</th>\n",
       "      <td>31</td>\n",
       "      <td>4</td>\n",
       "      <td>UA</td>\n",
       "      <td>19977</td>\n",
       "      <td>UA</td>\n",
       "      <td>N776UA</td>\n",
       "      <td>200</td>\n",
       "      <td>12016</td>\n",
       "      <td>GUM</td>\n",
       "      <td>12173</td>\n",
       "      <td>HNL</td>\n",
       "      <td>749.0</td>\n",
       "      <td>0.0</td>\n",
       "      <td>0700-0759</td>\n",
       "      <td>1832.0</td>\n",
       "      <td>0.0</td>\n",
       "      <td>0</td>\n",
       "      <td>0</td>\n",
       "      <td>3801</td>\n",
       "    </tr>\n",
       "    <tr>\n",
       "      <th>583981</th>\n",
       "      <td>31</td>\n",
       "      <td>4</td>\n",
       "      <td>UA</td>\n",
       "      <td>19977</td>\n",
       "      <td>UA</td>\n",
       "      <td>N36280</td>\n",
       "      <td>174</td>\n",
       "      <td>12016</td>\n",
       "      <td>GUM</td>\n",
       "      <td>14955</td>\n",
       "      <td>SPN</td>\n",
       "      <td>717.0</td>\n",
       "      <td>0.0</td>\n",
       "      <td>0700-0759</td>\n",
       "      <td>759.0</td>\n",
       "      <td>0.0</td>\n",
       "      <td>0</td>\n",
       "      <td>0</td>\n",
       "      <td>129</td>\n",
       "    </tr>\n",
       "    <tr>\n",
       "      <th>583982</th>\n",
       "      <td>31</td>\n",
       "      <td>4</td>\n",
       "      <td>UA</td>\n",
       "      <td>19977</td>\n",
       "      <td>UA</td>\n",
       "      <td>N36280</td>\n",
       "      <td>117</td>\n",
       "      <td>14955</td>\n",
       "      <td>SPN</td>\n",
       "      <td>12016</td>\n",
       "      <td>GUM</td>\n",
       "      <td>857.0</td>\n",
       "      <td>0.0</td>\n",
       "      <td>0900-0959</td>\n",
       "      <td>933.0</td>\n",
       "      <td>0.0</td>\n",
       "      <td>0</td>\n",
       "      <td>0</td>\n",
       "      <td>129</td>\n",
       "    </tr>\n",
       "    <tr>\n",
       "      <th>583983</th>\n",
       "      <td>31</td>\n",
       "      <td>4</td>\n",
       "      <td>UA</td>\n",
       "      <td>19977</td>\n",
       "      <td>UA</td>\n",
       "      <td>N39726</td>\n",
       "      <td>105</td>\n",
       "      <td>14955</td>\n",
       "      <td>SPN</td>\n",
       "      <td>12016</td>\n",
       "      <td>GUM</td>\n",
       "      <td>1820.0</td>\n",
       "      <td>0.0</td>\n",
       "      <td>1800-1859</td>\n",
       "      <td>1854.0</td>\n",
       "      <td>0.0</td>\n",
       "      <td>0</td>\n",
       "      <td>0</td>\n",
       "      <td>129</td>\n",
       "    </tr>\n",
       "    <tr>\n",
       "      <th>583984</th>\n",
       "      <td>31</td>\n",
       "      <td>4</td>\n",
       "      <td>UA</td>\n",
       "      <td>19977</td>\n",
       "      <td>UA</td>\n",
       "      <td>N39726</td>\n",
       "      <td>104</td>\n",
       "      <td>12016</td>\n",
       "      <td>GUM</td>\n",
       "      <td>14955</td>\n",
       "      <td>SPN</td>\n",
       "      <td>1636.0</td>\n",
       "      <td>0.0</td>\n",
       "      <td>1600-1659</td>\n",
       "      <td>1719.0</td>\n",
       "      <td>0.0</td>\n",
       "      <td>0</td>\n",
       "      <td>0</td>\n",
       "      <td>129</td>\n",
       "    </tr>\n",
       "  </tbody>\n",
       "</table>\n",
       "</div>"
      ],
      "text/plain": [
       "        DAY_OF_MONTH  DAY_OF_WEEK OP_UNIQUE_CARRIER  OP_CARRIER_AIRLINE_ID  \\\n",
       "583975            31            4                UA                  19977   \n",
       "583976            31            4                UA                  19977   \n",
       "583977            31            4                UA                  19977   \n",
       "583978            31            4                UA                  19977   \n",
       "583979            31            4                UA                  19977   \n",
       "583980            31            4                UA                  19977   \n",
       "583981            31            4                UA                  19977   \n",
       "583982            31            4                UA                  19977   \n",
       "583983            31            4                UA                  19977   \n",
       "583984            31            4                UA                  19977   \n",
       "\n",
       "       OP_CARRIER TAIL_NUM  OP_CARRIER_FL_NUM  ORIGIN_AIRPORT_ID ORIGIN  \\\n",
       "583975         UA   N813UA                205              14771    SFO   \n",
       "583976         UA   N75861                204              13930    ORD   \n",
       "583977         UA   N39728                203              10693    BNA   \n",
       "583978         UA   N779UA                202              13930    ORD   \n",
       "583979         UA   N769UA                201              12173    HNL   \n",
       "583980         UA   N776UA                200              12016    GUM   \n",
       "583981         UA   N36280                174              12016    GUM   \n",
       "583982         UA   N36280                117              14955    SPN   \n",
       "583983         UA   N39726                105              14955    SPN   \n",
       "583984         UA   N39726                104              12016    GUM   \n",
       "\n",
       "        DEST_AIRPORT_ID DEST  DEP_TIME  DEP_DEL15 DEP_TIME_BLK  ARR_TIME  \\\n",
       "583975            14057  PDX     604.0        0.0    0600-0659     802.0   \n",
       "583976            12892  LAX     813.0        1.0    0700-0759    1028.0   \n",
       "583977            12266  IAH    1105.0        0.0    1100-1159    1335.0   \n",
       "583978            13830  OGG    1027.0        1.0    1000-1059    1457.0   \n",
       "583979            12016  GUM    1502.0        0.0    1500-1559    1849.0   \n",
       "583980            12173  HNL     749.0        0.0    0700-0759    1832.0   \n",
       "583981            14955  SPN     717.0        0.0    0700-0759     759.0   \n",
       "583982            12016  GUM     857.0        0.0    0900-0959     933.0   \n",
       "583983            12016  GUM    1820.0        0.0    1800-1859    1854.0   \n",
       "583984            14955  SPN    1636.0        0.0    1600-1659    1719.0   \n",
       "\n",
       "        ARR_DEL15  CANCELLED  DIVERTED  DISTANCE  \n",
       "583975        0.0          0         0       550  \n",
       "583976        0.0          0         0      1744  \n",
       "583977        1.0          0         0       657  \n",
       "583978        0.0          0         0      4184  \n",
       "583979        0.0          0         0      3801  \n",
       "583980        0.0          0         0      3801  \n",
       "583981        0.0          0         0       129  \n",
       "583982        0.0          0         0       129  \n",
       "583983        0.0          0         0       129  \n",
       "583984        0.0          0         0       129  "
      ]
     },
     "execution_count": 75,
     "metadata": {},
     "output_type": "execute_result"
    }
   ],
   "source": [
    "data.tail(10) #menampilkan 10 data terakhir"
   ]
  },
  {
   "cell_type": "code",
   "execution_count": 76,
   "metadata": {},
   "outputs": [
    {
     "data": {
      "text/plain": [
       "(583985, 19)"
      ]
     },
     "execution_count": 76,
     "metadata": {},
     "output_type": "execute_result"
    }
   ],
   "source": [
    "data.shape #bentuk/dimensi dataset (baris,kolom)"
   ]
  },
  {
   "cell_type": "code",
   "execution_count": 77,
   "metadata": {},
   "outputs": [
    {
     "data": {
      "text/plain": [
       "Index(['DAY_OF_MONTH', 'DAY_OF_WEEK', 'OP_UNIQUE_CARRIER',\n",
       "       'OP_CARRIER_AIRLINE_ID', 'OP_CARRIER', 'TAIL_NUM', 'OP_CARRIER_FL_NUM',\n",
       "       'ORIGIN_AIRPORT_ID', 'ORIGIN', 'DEST_AIRPORT_ID', 'DEST', 'DEP_TIME',\n",
       "       'DEP_DEL15', 'DEP_TIME_BLK', 'ARR_TIME', 'ARR_DEL15', 'CANCELLED',\n",
       "       'DIVERTED', 'DISTANCE'],\n",
       "      dtype='object')"
      ]
     },
     "execution_count": 77,
     "metadata": {},
     "output_type": "execute_result"
    }
   ],
   "source": [
    "data.columns #daftar nama kolom"
   ]
  },
  {
   "cell_type": "code",
   "execution_count": 78,
   "metadata": {},
   "outputs": [
    {
     "name": "stdout",
     "output_type": "stream",
     "text": [
      "<class 'pandas.core.frame.DataFrame'>\n",
      "RangeIndex: 583985 entries, 0 to 583984\n",
      "Data columns (total 19 columns):\n",
      " #   Column                 Non-Null Count   Dtype  \n",
      "---  ------                 --------------   -----  \n",
      " 0   DAY_OF_MONTH           583985 non-null  int64  \n",
      " 1   DAY_OF_WEEK            583985 non-null  int64  \n",
      " 2   OP_UNIQUE_CARRIER      583985 non-null  object \n",
      " 3   OP_CARRIER_AIRLINE_ID  583985 non-null  int64  \n",
      " 4   OP_CARRIER             583985 non-null  object \n",
      " 5   TAIL_NUM               581442 non-null  object \n",
      " 6   OP_CARRIER_FL_NUM      583985 non-null  int64  \n",
      " 7   ORIGIN_AIRPORT_ID      583985 non-null  int64  \n",
      " 8   ORIGIN                 583985 non-null  object \n",
      " 9   DEST_AIRPORT_ID        583985 non-null  int64  \n",
      " 10  DEST                   583985 non-null  object \n",
      " 11  DEP_TIME               567633 non-null  float64\n",
      " 12  DEP_DEL15              567630 non-null  float64\n",
      " 13  DEP_TIME_BLK           583985 non-null  object \n",
      " 14  ARR_TIME               566924 non-null  float64\n",
      " 15  ARR_DEL15              565963 non-null  float64\n",
      " 16  CANCELLED              583985 non-null  int64  \n",
      " 17  DIVERTED               583985 non-null  int64  \n",
      " 18  DISTANCE               583985 non-null  int64  \n",
      "dtypes: float64(4), int64(9), object(6)\n",
      "memory usage: 84.7+ MB\n"
     ]
    }
   ],
   "source": [
    "data.info() #informasi dataset"
   ]
  },
  {
   "cell_type": "code",
   "execution_count": 79,
   "metadata": {},
   "outputs": [
    {
     "data": {
      "text/plain": [
       "DAY_OF_MONTH                 0\n",
       "DAY_OF_WEEK                  0\n",
       "OP_UNIQUE_CARRIER            0\n",
       "OP_CARRIER_AIRLINE_ID        0\n",
       "OP_CARRIER                   0\n",
       "TAIL_NUM                  2543\n",
       "OP_CARRIER_FL_NUM            0\n",
       "ORIGIN_AIRPORT_ID            0\n",
       "ORIGIN                       0\n",
       "DEST_AIRPORT_ID              0\n",
       "DEST                         0\n",
       "DEP_TIME                 16352\n",
       "DEP_DEL15                16355\n",
       "DEP_TIME_BLK                 0\n",
       "ARR_TIME                 17061\n",
       "ARR_DEL15                18022\n",
       "CANCELLED                    0\n",
       "DIVERTED                     0\n",
       "DISTANCE                     0\n",
       "dtype: int64"
      ]
     },
     "execution_count": 79,
     "metadata": {},
     "output_type": "execute_result"
    }
   ],
   "source": [
    "data.isnull().sum() #mendeteksi keberadaan nilai kosong"
   ]
  },
  {
   "cell_type": "code",
   "execution_count": 80,
   "metadata": {},
   "outputs": [
    {
     "data": {
      "text/plain": [
       "70333"
      ]
     },
     "execution_count": 80,
     "metadata": {},
     "output_type": "execute_result"
    }
   ],
   "source": [
    "data.isnull().values.sum() #menghitung jumlah seluruh nilai kosong"
   ]
  },
  {
   "cell_type": "code",
   "execution_count": 81,
   "metadata": {},
   "outputs": [
    {
     "data": {
      "text/html": [
       "<div>\n",
       "<style scoped>\n",
       "    .dataframe tbody tr th:only-of-type {\n",
       "        vertical-align: middle;\n",
       "    }\n",
       "\n",
       "    .dataframe tbody tr th {\n",
       "        vertical-align: top;\n",
       "    }\n",
       "\n",
       "    .dataframe thead th {\n",
       "        text-align: right;\n",
       "    }\n",
       "</style>\n",
       "<table border=\"1\" class=\"dataframe\">\n",
       "  <thead>\n",
       "    <tr style=\"text-align: right;\">\n",
       "      <th></th>\n",
       "      <th>DAY_OF_WEEK</th>\n",
       "      <th>OP_CARRIER_AIRLINE_ID</th>\n",
       "      <th>ORIGIN_AIRPORT_ID</th>\n",
       "      <th>DEST_AIRPORT_ID</th>\n",
       "      <th>DIVERTED</th>\n",
       "    </tr>\n",
       "  </thead>\n",
       "  <tbody>\n",
       "    <tr>\n",
       "      <th>0</th>\n",
       "      <td>2</td>\n",
       "      <td>20363</td>\n",
       "      <td>11953</td>\n",
       "      <td>10397</td>\n",
       "      <td>0</td>\n",
       "    </tr>\n",
       "    <tr>\n",
       "      <th>1</th>\n",
       "      <td>2</td>\n",
       "      <td>20363</td>\n",
       "      <td>13487</td>\n",
       "      <td>11193</td>\n",
       "      <td>0</td>\n",
       "    </tr>\n",
       "    <tr>\n",
       "      <th>2</th>\n",
       "      <td>2</td>\n",
       "      <td>20363</td>\n",
       "      <td>11433</td>\n",
       "      <td>11193</td>\n",
       "      <td>0</td>\n",
       "    </tr>\n",
       "    <tr>\n",
       "      <th>3</th>\n",
       "      <td>2</td>\n",
       "      <td>20363</td>\n",
       "      <td>15249</td>\n",
       "      <td>10397</td>\n",
       "      <td>0</td>\n",
       "    </tr>\n",
       "    <tr>\n",
       "      <th>4</th>\n",
       "      <td>2</td>\n",
       "      <td>20363</td>\n",
       "      <td>10397</td>\n",
       "      <td>11778</td>\n",
       "      <td>0</td>\n",
       "    </tr>\n",
       "  </tbody>\n",
       "</table>\n",
       "</div>"
      ],
      "text/plain": [
       "   DAY_OF_WEEK  OP_CARRIER_AIRLINE_ID  ORIGIN_AIRPORT_ID  DEST_AIRPORT_ID  \\\n",
       "0            2                  20363              11953            10397   \n",
       "1            2                  20363              13487            11193   \n",
       "2            2                  20363              11433            11193   \n",
       "3            2                  20363              15249            10397   \n",
       "4            2                  20363              10397            11778   \n",
       "\n",
       "   DIVERTED  \n",
       "0         0  \n",
       "1         0  \n",
       "2         0  \n",
       "3         0  \n",
       "4         0  "
      ]
     },
     "execution_count": 81,
     "metadata": {},
     "output_type": "execute_result"
    }
   ],
   "source": [
    "column = ['DEP_TIME_BLK', 'ARR_TIME', 'OP_UNIQUE_CARRIER', 'OP_CARRIER', 'TAIL_NUM', 'OP_CARRIER_FL_NUM', 'DEST', 'ORIGIN', 'DEP_DEL15', 'DEP_TIME', 'CANCELLED' ,'ARR_DEL15', 'DAY_OF_MONTH', 'DISTANCE' ]\n",
    "\n",
    "df = data.drop(columns = column) #menghapus kolom yang dipilih\n",
    "df.head()"
   ]
  },
  {
   "cell_type": "code",
   "execution_count": 82,
   "metadata": {},
   "outputs": [
    {
     "data": {
      "text/plain": [
       "DAY_OF_WEEK              0\n",
       "OP_CARRIER_AIRLINE_ID    0\n",
       "ORIGIN_AIRPORT_ID        0\n",
       "DEST_AIRPORT_ID          0\n",
       "DIVERTED                 0\n",
       "dtype: int64"
      ]
     },
     "execution_count": 82,
     "metadata": {},
     "output_type": "execute_result"
    }
   ],
   "source": [
    "df.isnull().sum() #mendeteksi keberadaan nilai kosong"
   ]
  },
  {
   "cell_type": "code",
   "execution_count": 83,
   "metadata": {},
   "outputs": [
    {
     "data": {
      "text/plain": [
       "array([[    2, 20363, 11953, 10397,     0],\n",
       "       [    2, 20363, 13487, 11193,     0],\n",
       "       [    2, 20363, 11433, 11193,     0],\n",
       "       ...,\n",
       "       [    4, 19977, 14955, 12016,     0],\n",
       "       [    4, 19977, 14955, 12016,     0],\n",
       "       [    4, 19977, 12016, 14955,     0]], dtype=int64)"
      ]
     },
     "execution_count": 83,
     "metadata": {},
     "output_type": "execute_result"
    }
   ],
   "source": [
    "array = df.values #membuat array\n",
    "X = array [:, 0:4]\n",
    "Y = array [:, 4]\n",
    "array"
   ]
  },
  {
   "cell_type": "code",
   "execution_count": 84,
   "metadata": {},
   "outputs": [
    {
     "data": {
      "text/plain": [
       "array([[    4, 19790, 10397, 11057],\n",
       "       [    4, 20416, 15304, 14122],\n",
       "       [    6, 19930, 14771, 11618],\n",
       "       ...,\n",
       "       [    6, 19977, 13495, 12266],\n",
       "       [    2, 19393, 11259, 14107],\n",
       "       [    2, 19805, 11298, 13891]], dtype=int64)"
      ]
     },
     "execution_count": 84,
     "metadata": {},
     "output_type": "execute_result"
    }
   ],
   "source": [
    "from sklearn.model_selection import train_test_split #library untuk membagi dataset menjadi data training dan data testing\n",
    "x_train, x_test, y_train, y_test = train_test_split(X, Y, test_size=0.2, random_state=0) #test size adalah data yg di test\n",
    "x_test"
   ]
  },
  {
   "cell_type": "code",
   "execution_count": 85,
   "metadata": {},
   "outputs": [
    {
     "data": {
      "text/plain": [
       "GaussianNB()"
      ]
     },
     "execution_count": 85,
     "metadata": {},
     "output_type": "execute_result"
    }
   ],
   "source": [
    "from sklearn.naive_bayes import GaussianNB #import gaussian naive bayes model\n",
    "modelnb = GaussianNB() \n",
    "modelnb.fit(x_train, y_train) #memasukkan data training pada fungsi klasifikasi naive bayes"
   ]
  },
  {
   "cell_type": "code",
   "execution_count": 86,
   "metadata": {},
   "outputs": [
    {
     "data": {
      "text/plain": [
       "array([466172.,   1016.])"
      ]
     },
     "execution_count": 86,
     "metadata": {},
     "output_type": "execute_result"
    }
   ],
   "source": [
    "nbtrain = modelnb.fit(x_train, y_train)\n",
    "nbtrain.class_count_"
   ]
  },
  {
   "cell_type": "code",
   "execution_count": 87,
   "metadata": {},
   "outputs": [
    {
     "data": {
      "text/plain": [
       "array([0, 0, 0, ..., 0, 0, 0], dtype=int64)"
      ]
     },
     "execution_count": 87,
     "metadata": {},
     "output_type": "execute_result"
    }
   ],
   "source": [
    "y_pred = nbtrain.predict(x_test)\n",
    "y_pred"
   ]
  },
  {
   "cell_type": "code",
   "execution_count": 88,
   "metadata": {},
   "outputs": [
    {
     "data": {
      "text/plain": [
       "array([0, 0, 0, ..., 0, 0, 0], dtype=int64)"
      ]
     },
     "execution_count": 88,
     "metadata": {},
     "output_type": "execute_result"
    }
   ],
   "source": [
    "np.array(y_test)"
   ]
  },
  {
   "cell_type": "code",
   "execution_count": 89,
   "metadata": {},
   "outputs": [
    {
     "data": {
      "text/plain": [
       "array([[0.99835267, 0.00164733],\n",
       "       [0.99712589, 0.00287411],\n",
       "       [0.99799109, 0.00200891],\n",
       "       ...,\n",
       "       [0.99775452, 0.00224548],\n",
       "       [0.99890619, 0.00109381],\n",
       "       [0.99785874, 0.00214126]])"
      ]
     },
     "execution_count": 89,
     "metadata": {},
     "output_type": "execute_result"
    }
   ],
   "source": [
    "nbtrain.predict_proba(x_test)"
   ]
  },
  {
   "cell_type": "code",
   "execution_count": 90,
   "metadata": {},
   "outputs": [
    {
     "data": {
      "text/plain": [
       "0.9976026781509799"
      ]
     },
     "execution_count": 90,
     "metadata": {},
     "output_type": "execute_result"
    }
   ],
   "source": [
    "from sklearn.metrics import confusion_matrix, accuracy_score #mengecek akurasi\n",
    "ac = accuracy_score(y_test, y_pred)\n",
    "cm = confusion_matrix(y_test, y_pred)\n",
    "ac"
   ]
  },
  {
   "cell_type": "code",
   "execution_count": 91,
   "metadata": {},
   "outputs": [
    {
     "data": {
      "text/plain": [
       "<AxesSubplot:>"
      ]
     },
     "execution_count": 91,
     "metadata": {},
     "output_type": "execute_result"
    },
    {
     "data": {
      "image/png": "[encoded data removed]",
      "text/plain": [
       "<Figure size 432x288 with 2 Axes>"
      ]
     },
     "metadata": {
      "needs_background": "light"
     },
     "output_type": "display_data"
    }
   ],
   "source": [
    "import seaborn as sns #library untuk membuat grafik dan statistik\n",
    "cm_matrix = pd.DataFrame(data=cm, columns=['Actual Positive:1', 'Actual Negative:0'], #mendefinisikan confusion matrix\n",
    "                                 index=['Predict Positive:1', 'Predict Negative:0'])\n",
    "\n",
    "sns.heatmap(cm_matrix, annot=True, fmt='d', cmap='YlGnBu')"
   ]
  },
  {
   "cell_type": "code",
   "execution_count": 92,
   "metadata": {},
   "outputs": [],
   "source": [
    "TP = cm[0,0]\n",
    "TN = cm[1,1]\n",
    "FP = cm[0,1]\n",
    "FN = cm[1,0]"
   ]
  },
  {
   "cell_type": "code",
   "execution_count": 93,
   "metadata": {},
   "outputs": [
    {
     "name": "stdout",
     "output_type": "stream",
     "text": [
      "Classification accuracy : 0.9976\n"
     ]
    }
   ],
   "source": [
    "# print classification accuracy\n",
    "\n",
    "classification_accuracy = (TP + TN) / float(TP + TN + FP + FN)\n",
    "\n",
    "print('Classification accuracy : {0:0.4f}'.format(classification_accuracy))"
   ]
  },
  {
   "cell_type": "code",
   "execution_count": 94,
   "metadata": {},
   "outputs": [
    {
     "name": "stdout",
     "output_type": "stream",
     "text": [
      "Classification error : 0.0024\n"
     ]
    }
   ],
   "source": [
    "# print classification error\n",
    "\n",
    "classification_error = (FP + FN) / float(TP + TN + FP + FN)\n",
    "\n",
    "print('Classification error : {0:0.4f}'.format(classification_error))"
   ]
  },
  {
   "cell_type": "code",
   "execution_count": 95,
   "metadata": {},
   "outputs": [
    {
     "name": "stdout",
     "output_type": "stream",
     "text": [
      "Precision : 1.0000\n"
     ]
    }
   ],
   "source": [
    "precision = TP / float(TP + FP)\n",
    "\n",
    "\n",
    "print('Precision : {0:0.4f}'.format(precision))"
   ]
  },
  {
   "cell_type": "code",
   "execution_count": 96,
   "metadata": {},
   "outputs": [
    {
     "name": "stdout",
     "output_type": "stream",
     "text": [
      "Recall or Sensitivity : 0.9976\n"
     ]
    }
   ],
   "source": [
    "recall = TP / float(TP + FN)\n",
    "\n",
    "print('Recall or Sensitivity : {0:0.4f}'.format(recall))"
   ]
  },
  {
   "cell_type": "code",
   "execution_count": 97,
   "metadata": {},
   "outputs": [
    {
     "name": "stdout",
     "output_type": "stream",
     "text": [
      "True Positive Rate : 0.9976\n"
     ]
    }
   ],
   "source": [
    "true_positive_rate = TP / float(TP + FN)\n",
    "\n",
    "\n",
    "print('True Positive Rate : {0:0.4f}'.format(true_positive_rate))"
   ]
  }
 ],
 "metadata": {
  "kernelspec": {
   "display_name": "base",
   "language": "python",
   "name": "python3"
  },
  "language_info": {
   "codemirror_mode": {
    "name": "ipython",
    "version": 3
   },
   "file_extension": ".py",
   "mimetype": "text/x-python",
   "name": "python",
   "nbconvert_exporter": "python",
   "pygments_lexer": "ipython3",
   "version": "3.8.8"
  },
  "orig_nbformat": 4,
  "vscode": {
   "interpreter": {
    "hash": "afab74e908ddc0774bef5a3058b9e780d004343072468caaf5c23b3265cf01bc"
   }
  }
 },
 "nbformat": 4,
 "nbformat_minor": 2
}
